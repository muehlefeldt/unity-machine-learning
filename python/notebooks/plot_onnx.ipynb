{
 "cells": [
  {
   "cell_type": "code",
   "execution_count": null,
   "metadata": {},
   "outputs": [],
   "source": [
    "import onnx_graphsurgeon as gs\n",
    "import networkx as nx\n",
    "import matplotlib.pyplot as plt\n",
    "\n",
    "# Load the ONNX model\n",
    "onnx_model_path = \"path/to/your/model.onnx\"\n",
    "graph = gs.import_onnx(onnx_model_path).toposort()\n",
    "\n",
    "# Create a NetworkX graph\n",
    "nx_graph = gs.export_to_networkx(graph)\n",
    "\n",
    "# Plot the graph\n",
    "pos = nx.spring_layout(nx_graph, seed=42)\n",
    "nx.draw(nx_graph, pos, with_labels=True, node_size=1000, node_color=\"skyblue\", font_size=8, font_weight=\"bold\")\n",
    "plt.show()"
   ]
  }
 ],
 "metadata": {
  "language_info": {
   "name": "python"
  },
  "orig_nbformat": 4
 },
 "nbformat": 4,
 "nbformat_minor": 2
}
