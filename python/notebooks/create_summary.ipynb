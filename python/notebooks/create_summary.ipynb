{
 "cells": [
  {
   "cell_type": "markdown",
   "metadata": {},
   "source": [
    "Create summary of the requested runs."
   ]
  },
  {
   "cell_type": "code",
   "execution_count": 29,
   "metadata": {},
   "outputs": [],
   "source": [
    "import os\n",
    "import json\n",
    "import yaml\n",
    "import numpy as np\n",
    "from pathlib import Path\n",
    "from tensorboard.backend.event_processing.event_file_loader import EventFileLoader\n",
    "from collections import OrderedDict"
   ]
  },
  {
   "cell_type": "code",
   "execution_count": 30,
   "metadata": {},
   "outputs": [],
   "source": [
    "from_run = 6107\n",
    "to_run = 6108"
   ]
  },
  {
   "cell_type": "code",
   "execution_count": 31,
   "metadata": {},
   "outputs": [],
   "source": [
    "def get_run_dict(paths_dict: dict) -> dict:\n",
    "    result = {}\n",
    "    #dir_contents: list = []\n",
    "    for key in paths_dict:\n",
    "        if key != \"working_dir\":\n",
    "            dir_contents = os.listdir(paths_dict[key])\n",
    "    \n",
    "            #numbers = []\n",
    "            #rest_of_file_name: str = \"\"\n",
    "            for entry in dir_contents:\n",
    "                number = 0\n",
    "                if \"_\" in entry:\n",
    "                    number = int(entry.split(\"_\")[0])\n",
    "                    #rest_of_file_name = str.join(\"_\", entry.split(\"_\")[1:])\n",
    "                    \n",
    "                else:\n",
    "                    number = int(entry.split(\".\")[0])\n",
    "                    #rest_of_file_name = str.join(\".\", entry.split(\".\")[1:])\n",
    "                    \n",
    "                if number not in result:\n",
    "                    result[number] = {}\n",
    "                    \n",
    "                result[number][key] = paths_dict[key] / f\"{entry}\"\n",
    "    #if not numbers:\n",
    "    #    return []\n",
    "    \n",
    "            #for num in numbers:\n",
    "                \n",
    "    \n",
    "    # Remove double entries and sort.\n",
    "    #result = dict.fromkeys(numbers)\n",
    "    #result.sort()\n",
    "\n",
    "    #for key in result:\n",
    "    #    result[key] = {}\n",
    "    #    result[key][\"summary_path\"] = paths_dict[\"summaries_dir\"] / f\"{key}_summary.json\"\n",
    "    #    result[key][\"result_path\"] = paths_dict[\"summaries_dir\"] / f\"{key}_summary.json\"\n",
    "\n",
    "    return result"
   ]
  },
  {
   "cell_type": "code",
   "execution_count": 32,
   "metadata": {},
   "outputs": [],
   "source": [
    "def get_result_overview(path: Path, unity: dict) -> dict:\n",
    "    \"\"\"Get the mean reward over the last 5 cumulative rewards entries in the tfevents file.\"\"\"\n",
    "    cumulative_rewards = []\n",
    "    ep_length = []\n",
    "\n",
    "    # Get the tfevents file associated with the current run.\n",
    "    path_to_result_folder = path / \"RollerAgent/\"\n",
    "    try:\n",
    "        path_to_result = sorted(Path(path_to_result_folder).glob(\"events.out.tfevents.*\"))[0]\n",
    "    except:\n",
    "        return {}\n",
    "\n",
    "    # Using tensorflow to access the tfevents data.\n",
    "    # datarecord = EventFileLoader(str(path_to_result)).Load()\n",
    "    for event in EventFileLoader(str(path_to_result)).Load():\n",
    "        # event = event_pb2.Event.FromString(batch.numpy())\n",
    "        for value in event.summary.value:\n",
    "            if value.tag == \"Environment/Cumulative Reward\":\n",
    "                cumulative_rewards.append(value.tensor.float_val[0])\n",
    "            if value.tag == \"Environment/Episode Length\":\n",
    "                ep_length.append(value.tensor.float_val[0])\n",
    "\n",
    "    # Return mean of the last 5 recorded cummulative rewards.\n",
    "    rewards_of_interest = cumulative_rewards[-100:]\n",
    "    return {\"mean_reward\": np.mean(rewards_of_interest), \n",
    "            \"std_mean_reward\": np.round(np.std(rewards_of_interest), 5),\n",
    "            \"episode_length\": np.mean(ep_length[-100:]),\n",
    "            \"normalised_reward\": np.mean(rewards_of_interest) / unity[\"maxStep\"]\n",
    "    }"
   ]
  },
  {
   "cell_type": "code",
   "execution_count": 33,
   "metadata": {},
   "outputs": [
    {
     "data": {
      "text/plain": [
       "{'working_dir': WindowsPath('C:/Users/max.muehlefeldt/Documents/GitHub/unity-machine-learning/python/basic_rl_env'),\n",
       " 'results_dir': WindowsPath('C:/Users/max.muehlefeldt/Documents/GitHub/unity-machine-learning/python/basic_rl_env/results'),\n",
       " 'results_archive_dir': WindowsPath('C:/Users/max.muehlefeldt/Documents/GitHub/unity-machine-learning/python/basic_rl_env/results_archive'),\n",
       " 'stats_dir': WindowsPath('C:/Users/max.muehlefeldt/Documents/GitHub/unity-machine-learning/python/basic_rl_env/stats'),\n",
       " 'summaries_dir': WindowsPath('C:/Users/max.muehlefeldt/Documents/GitHub/unity-machine-learning/python/basic_rl_env/summaries'),\n",
       " 'configs_dir': WindowsPath('C:/Users/max.muehlefeldt/Documents/GitHub/unity-machine-learning/python/basic_rl_env/configs'),\n",
       " 'unity_configs_dir': WindowsPath('C:/Users/max.muehlefeldt/Documents/GitHub/unity-machine-learning/python/basic_rl_env/unity_configs')}"
      ]
     },
     "execution_count": 33,
     "metadata": {},
     "output_type": "execute_result"
    }
   ],
   "source": [
    "# Enter paths for plot creation and get absolute paths.\n",
    "paths = {\n",
    "        \"working_dir\": \"C:/Users/max.muehlefeldt/Documents/GitHub/unity-machine-learning/python/basic_rl_env\",\n",
    "        \"results_dir\": \"results/\",\n",
    "        \"results_archive_dir\": \"results_archive/\",\n",
    "        \"stats_dir\": \"stats/\",\n",
    "        \"summaries_dir\": \"summaries/\",\n",
    "        \"configs_dir\": \"configs/\",\n",
    "        \"unity_configs_dir\": \"unity_configs/\"\n",
    "    }\n",
    "\n",
    "paths[\"working_dir\"] = Path(paths[\"working_dir\"]).absolute()\n",
    "\n",
    "for key in paths:\n",
    "    if key != \"working_dir\":\n",
    "        paths[key] = paths[\"working_dir\"] / paths[key]\n",
    "        \n",
    "\n",
    "paths"
   ]
  },
  {
   "cell_type": "code",
   "execution_count": 34,
   "metadata": {},
   "outputs": [
    {
     "data": {
      "text/plain": [
       "[6107, 6108]"
      ]
     },
     "execution_count": 34,
     "metadata": {},
     "output_type": "execute_result"
    }
   ],
   "source": [
    "run_dict = get_run_dict(paths)\n",
    "\n",
    "selected_ids = [x for x in run_dict.keys() if from_run <= x <= to_run]\n",
    "selected_ids\n",
    "\n",
    "\n"
   ]
  },
  {
   "cell_type": "code",
   "execution_count": 35,
   "metadata": {},
   "outputs": [
    {
     "data": {
      "text/plain": [
       "{6107: {'stats': {'sameRoom': 467691,\n",
       "   'agentInRoomID0': 467950,\n",
       "   'agentInRoomID1': 467338,\n",
       "   'targetInRoomID0': 468137,\n",
       "   'targetInRoomID1': 467151,\n",
       "   'episodeCount': 935288,\n",
       "   'sensorCount': 32,\n",
       "   'runId': 6107,\n",
       "   'targetRoomIndex0': 468137,\n",
       "   'targetRoomIndex1': 467151},\n",
       "  'unity_config': {'sensorCount': 32,\n",
       "   'useDecoy': False,\n",
       "   'createWall': True,\n",
       "   'doorWidth': 4.0,\n",
       "   'randomWallPosition': True,\n",
       "   'randomDoorPosition': True,\n",
       "   'targetAlwaysInOtherRoomFromAgent': False,\n",
       "   'targetFixedPosition': False,\n",
       "   'maxStep': 1000,\n",
       "   'stepPenalty': -0.0005,\n",
       "   'runId': 6107,\n",
       "   'statsExportPath': 'C:\\\\Users\\\\max.muehlefeldt\\\\Documents\\\\GitHub\\\\unity-machine-learning\\\\python\\\\basic_rl_env\\\\stats\\\\6107_stats.json'},\n",
       "  'training_config': {'behaviors': {'RollerAgent': {'hyperparameters': {'batch_size': 356,\n",
       "      'beta': '1e-2',\n",
       "      'buffer_size': 51200,\n",
       "      'epsilon': 0.2,\n",
       "      'lambd': 0.95,\n",
       "      'learning_rate': '1e-3',\n",
       "      'learning_rate_schedule': 'linear',\n",
       "      'num_epoch': 3},\n",
       "     'keep_checkpoints': 5,\n",
       "     'max_steps': '100e6',\n",
       "     'network_settings': {'conditioning_type': 'none',\n",
       "      'hidden_units': 512,\n",
       "      'memory': {'memory_size': 16, 'sequence_length': 4},\n",
       "      'normalize': False,\n",
       "      'num_layers': 1},\n",
       "     'reward_signals': {'extrinsic': {'gamma': 0.99, 'strength': 1.0}},\n",
       "     'summary_freq': 10000,\n",
       "     'time_horizon': 2000,\n",
       "     'trainer_type': 'ppo'}}},\n",
       "  'result': {'mean_reward': 0.909500902891159,\n",
       "   'std_mean_reward': 0.07448,\n",
       "   'episode_length': 80.10607475280761,\n",
       "   'normalised_reward': 0.000909500902891159}},\n",
       " 6108: {'stats': {'sameRoom': 754842,\n",
       "   'agentInRoomID0': 754758,\n",
       "   'agentInRoomID1': 753953,\n",
       "   'targetInRoomID0': 754649,\n",
       "   'targetInRoomID1': 754062,\n",
       "   'episodeCount': 1508711,\n",
       "   'sensorCount': 32,\n",
       "   'runId': 6108,\n",
       "   'targetRoomIndex0': 754649,\n",
       "   'targetRoomIndex1': 754062},\n",
       "  'unity_config': {'sensorCount': 32,\n",
       "   'useDecoy': False,\n",
       "   'createWall': True,\n",
       "   'doorWidth': 4.0,\n",
       "   'randomWallPosition': True,\n",
       "   'randomDoorPosition': True,\n",
       "   'targetAlwaysInOtherRoomFromAgent': False,\n",
       "   'targetFixedPosition': False,\n",
       "   'maxStep': 1000,\n",
       "   'stepPenalty': -0.0005,\n",
       "   'runId': 6108,\n",
       "   'statsExportPath': 'C:\\\\Users\\\\max.muehlefeldt\\\\Documents\\\\GitHub\\\\unity-machine-learning\\\\python\\\\basic_rl_env\\\\stats\\\\6108_stats.json'},\n",
       "  'training_config': {'behaviors': {'RollerAgent': {'hyperparameters': {'batch_size': 356,\n",
       "      'beta': '1e-2',\n",
       "      'buffer_size': 51200,\n",
       "      'epsilon': 0.2,\n",
       "      'lambd': 0.95,\n",
       "      'learning_rate': '1e-3',\n",
       "      'learning_rate_schedule': 'linear',\n",
       "      'num_epoch': 3},\n",
       "     'keep_checkpoints': 5,\n",
       "     'max_steps': '100e6',\n",
       "     'network_settings': {'conditioning_type': 'none',\n",
       "      'hidden_units': 512,\n",
       "      'normalize': False,\n",
       "      'num_layers': 2},\n",
       "     'reward_signals': {'extrinsic': {'gamma': 0.99, 'strength': 1.0}},\n",
       "     'summary_freq': 10000,\n",
       "     'time_horizon': 2000,\n",
       "     'trainer_type': 'ppo'}}},\n",
       "  'result': {'mean_reward': 1.0948573704063893,\n",
       "   'std_mean_reward': 0.14322,\n",
       "   'episode_length': 45.63960765838623,\n",
       "   'normalised_reward': 0.0010948573704063892}}}"
      ]
     },
     "execution_count": 35,
     "metadata": {},
     "output_type": "execute_result"
    }
   ],
   "source": [
    "selected_ids_dict = {}\n",
    "for run_id in selected_ids:\n",
    "    selected_ids_dict[run_id] = {}\n",
    "\n",
    "    if \"stats_dir\" in run_dict[run_id]:\n",
    "        with open(run_dict[run_id][\"stats_dir\"]) as json_file:\n",
    "        #results[\"stats\"] = json.load(json_file)\n",
    "            selected_ids_dict[run_id][\"stats\"] = json.load(json_file)\n",
    "    \n",
    "    if \"unity_configs_dir\" in run_dict[run_id]:\n",
    "        with open(run_dict[run_id][\"unity_configs_dir\"]) as json_file:\n",
    "        #results[\"stats\"] = json.load(json_file)\n",
    "            selected_ids_dict[run_id][\"unity_config\"] = json.load(json_file)\n",
    "\n",
    "    if \"configs_dir\" in run_dict[run_id]:\n",
    "        with open(run_dict[run_id][\"configs_dir\"]) as yaml_file:\n",
    "        #results[\"stats\"] = json.load(json_file)\n",
    "            selected_ids_dict[run_id][\"training_config\"] = yaml.safe_load(yaml_file)\n",
    "    \n",
    "    if \"results_dir\" in run_dict[run_id]:\n",
    "        selected_ids_dict[run_id][\"result\"] = get_result_overview(run_dict[run_id][\"results_dir\"], selected_ids_dict[run_id][\"unity_config\"])\n",
    "\n",
    "\n",
    "selected_ids_dict"
   ]
  },
  {
   "cell_type": "code",
   "execution_count": 36,
   "metadata": {},
   "outputs": [],
   "source": [
    "#selected_ids_dict[6183]p.pop()"
   ]
  },
  {
   "cell_type": "code",
   "execution_count": 37,
   "metadata": {},
   "outputs": [],
   "source": [
    "# Remove ids from the dict if no result in dict saved.\n",
    "problem_ids = []\n",
    "for entry in selected_ids_dict:\n",
    "    if \"result\" not in selected_ids_dict[entry]:\n",
    "        problem_ids.append(entry)\n",
    "\n",
    "for id in problem_ids:\n",
    "    selected_ids_dict.pop(id)\n"
   ]
  },
  {
   "cell_type": "code",
   "execution_count": 38,
   "metadata": {},
   "outputs": [
    {
     "data": {
      "text/plain": [
       "OrderedDict([(6108,\n",
       "              {'stats': {'sameRoom': 754842,\n",
       "                'agentInRoomID0': 754758,\n",
       "                'agentInRoomID1': 753953,\n",
       "                'targetInRoomID0': 754649,\n",
       "                'targetInRoomID1': 754062,\n",
       "                'episodeCount': 1508711,\n",
       "                'sensorCount': 32,\n",
       "                'runId': 6108,\n",
       "                'targetRoomIndex0': 754649,\n",
       "                'targetRoomIndex1': 754062},\n",
       "               'unity_config': {'sensorCount': 32,\n",
       "                'useDecoy': False,\n",
       "                'createWall': True,\n",
       "                'doorWidth': 4.0,\n",
       "                'randomWallPosition': True,\n",
       "                'randomDoorPosition': True,\n",
       "                'targetAlwaysInOtherRoomFromAgent': False,\n",
       "                'targetFixedPosition': False,\n",
       "                'maxStep': 1000,\n",
       "                'stepPenalty': -0.0005,\n",
       "                'runId': 6108,\n",
       "                'statsExportPath': 'C:\\\\Users\\\\max.muehlefeldt\\\\Documents\\\\GitHub\\\\unity-machine-learning\\\\python\\\\basic_rl_env\\\\stats\\\\6108_stats.json'},\n",
       "               'training_config': {'behaviors': {'RollerAgent': {'hyperparameters': {'batch_size': 356,\n",
       "                   'beta': '1e-2',\n",
       "                   'buffer_size': 51200,\n",
       "                   'epsilon': 0.2,\n",
       "                   'lambd': 0.95,\n",
       "                   'learning_rate': '1e-3',\n",
       "                   'learning_rate_schedule': 'linear',\n",
       "                   'num_epoch': 3},\n",
       "                  'keep_checkpoints': 5,\n",
       "                  'max_steps': '100e6',\n",
       "                  'network_settings': {'conditioning_type': 'none',\n",
       "                   'hidden_units': 512,\n",
       "                   'normalize': False,\n",
       "                   'num_layers': 2},\n",
       "                  'reward_signals': {'extrinsic': {'gamma': 0.99,\n",
       "                    'strength': 1.0}},\n",
       "                  'summary_freq': 10000,\n",
       "                  'time_horizon': 2000,\n",
       "                  'trainer_type': 'ppo'}}},\n",
       "               'result': {'mean_reward': 1.0948573704063893,\n",
       "                'std_mean_reward': 0.14322,\n",
       "                'episode_length': 45.63960765838623,\n",
       "                'normalised_reward': 0.0010948573704063892}}),\n",
       "             (6107,\n",
       "              {'stats': {'sameRoom': 467691,\n",
       "                'agentInRoomID0': 467950,\n",
       "                'agentInRoomID1': 467338,\n",
       "                'targetInRoomID0': 468137,\n",
       "                'targetInRoomID1': 467151,\n",
       "                'episodeCount': 935288,\n",
       "                'sensorCount': 32,\n",
       "                'runId': 6107,\n",
       "                'targetRoomIndex0': 468137,\n",
       "                'targetRoomIndex1': 467151},\n",
       "               'unity_config': {'sensorCount': 32,\n",
       "                'useDecoy': False,\n",
       "                'createWall': True,\n",
       "                'doorWidth': 4.0,\n",
       "                'randomWallPosition': True,\n",
       "                'randomDoorPosition': True,\n",
       "                'targetAlwaysInOtherRoomFromAgent': False,\n",
       "                'targetFixedPosition': False,\n",
       "                'maxStep': 1000,\n",
       "                'stepPenalty': -0.0005,\n",
       "                'runId': 6107,\n",
       "                'statsExportPath': 'C:\\\\Users\\\\max.muehlefeldt\\\\Documents\\\\GitHub\\\\unity-machine-learning\\\\python\\\\basic_rl_env\\\\stats\\\\6107_stats.json'},\n",
       "               'training_config': {'behaviors': {'RollerAgent': {'hyperparameters': {'batch_size': 356,\n",
       "                   'beta': '1e-2',\n",
       "                   'buffer_size': 51200,\n",
       "                   'epsilon': 0.2,\n",
       "                   'lambd': 0.95,\n",
       "                   'learning_rate': '1e-3',\n",
       "                   'learning_rate_schedule': 'linear',\n",
       "                   'num_epoch': 3},\n",
       "                  'keep_checkpoints': 5,\n",
       "                  'max_steps': '100e6',\n",
       "                  'network_settings': {'conditioning_type': 'none',\n",
       "                   'hidden_units': 512,\n",
       "                   'memory': {'memory_size': 16, 'sequence_length': 4},\n",
       "                   'normalize': False,\n",
       "                   'num_layers': 1},\n",
       "                  'reward_signals': {'extrinsic': {'gamma': 0.99,\n",
       "                    'strength': 1.0}},\n",
       "                  'summary_freq': 10000,\n",
       "                  'time_horizon': 2000,\n",
       "                  'trainer_type': 'ppo'}}},\n",
       "               'result': {'mean_reward': 0.909500902891159,\n",
       "                'std_mean_reward': 0.07448,\n",
       "                'episode_length': 80.10607475280761,\n",
       "                'normalised_reward': 0.000909500902891159}})])"
      ]
     },
     "execution_count": 38,
     "metadata": {},
     "output_type": "execute_result"
    }
   ],
   "source": [
    "sorted_dict = OrderedDict(\n",
    "            sorted(\n",
    "                selected_ids_dict.items(), key=lambda v: v[1][\"result\"][\"mean_reward\"], reverse=True\n",
    "            )\n",
    "        )\n",
    "sorted_dict"
   ]
  },
  {
   "cell_type": "code",
   "execution_count": 39,
   "metadata": {},
   "outputs": [
    {
     "ename": "KeyError",
     "evalue": "6202",
     "output_type": "error",
     "traceback": [
      "\u001b[1;31m---------------------------------------------------------------------------\u001b[0m",
      "\u001b[1;31mKeyError\u001b[0m                                  Traceback (most recent call last)",
      "Cell \u001b[1;32mIn[39], line 1\u001b[0m\n\u001b[1;32m----> 1\u001b[0m \u001b[43msorted_dict\u001b[49m\u001b[43m[\u001b[49m\u001b[38;5;241;43m6202\u001b[39;49m\u001b[43m]\u001b[49m\n",
      "\u001b[1;31mKeyError\u001b[0m: 6202"
     ]
    }
   ],
   "source": [
    "sorted_dict[6202]"
   ]
  },
  {
   "cell_type": "code",
   "execution_count": null,
   "metadata": {},
   "outputs": [
    {
     "data": {
      "text/plain": [
       "-0.001524721241281006"
      ]
     },
     "execution_count": 33,
     "metadata": {},
     "output_type": "execute_result"
    }
   ],
   "source": [
    "all_normalised_reward = []\n",
    "\n",
    "for key in sorted_dict:\n",
    "    all_normalised_reward.append(sorted_dict[key][\"result\"][\"normalised_reward\"])\n",
    "\n",
    "np.mean(all_normalised_reward)\n",
    "#all_normalised_reward"
   ]
  }
 ],
 "metadata": {
  "kernelspec": {
   "display_name": ".venv",
   "language": "python",
   "name": "python3"
  },
  "language_info": {
   "codemirror_mode": {
    "name": "ipython",
    "version": 3
   },
   "file_extension": ".py",
   "mimetype": "text/x-python",
   "name": "python",
   "nbconvert_exporter": "python",
   "pygments_lexer": "ipython3",
   "version": "3.9.13"
  }
 },
 "nbformat": 4,
 "nbformat_minor": 2
}
