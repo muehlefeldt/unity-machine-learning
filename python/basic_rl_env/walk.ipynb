{
 "cells": [
  {
   "cell_type": "code",
   "execution_count": 19,
   "metadata": {},
   "outputs": [],
   "source": [
    "import os\n",
    "from pathlib import Path \n"
   ]
  },
  {
   "cell_type": "code",
   "execution_count": 23,
   "metadata": {},
   "outputs": [
    {
     "name": "stdout",
     "output_type": "stream",
     "text": [
      "c:\\Users\\max.muehlefeldt\\Documents\\GitHub\\unity-machine-learning\\basic_rl_env\\results\\00_basicenv_ppo\n",
      "c:\\Users\\max.muehlefeldt\\Documents\\GitHub\\unity-machine-learning\\basic_rl_env\\results\\01_basicenv_ppo\n",
      "c:\\Users\\max.muehlefeldt\\Documents\\GitHub\\unity-machine-learning\\basic_rl_env\\results\\02_basicenv_ppo\n",
      "c:\\Users\\max.muehlefeldt\\Documents\\GitHub\\unity-machine-learning\\basic_rl_env\\results\\03_basicenv_ppo\n",
      "c:\\Users\\max.muehlefeldt\\Documents\\GitHub\\unity-machine-learning\\basic_rl_env\\results\\04_basicenv_ppo\n",
      "c:\\Users\\max.muehlefeldt\\Documents\\GitHub\\unity-machine-learning\\basic_rl_env\\results\\05_basicenv_ppo\n",
      "c:\\Users\\max.muehlefeldt\\Documents\\GitHub\\unity-machine-learning\\basic_rl_env\\results\\06_basicenv_ppo\n",
      "c:\\Users\\max.muehlefeldt\\Documents\\GitHub\\unity-machine-learning\\basic_rl_env\\results\\07_basicenv_ppo\n",
      "c:\\Users\\max.muehlefeldt\\Documents\\GitHub\\unity-machine-learning\\basic_rl_env\\results\\08_basicenv_ppo\n",
      "c:\\Users\\max.muehlefeldt\\Documents\\GitHub\\unity-machine-learning\\basic_rl_env\\results\\09_basicenv_ppo\n",
      "c:\\Users\\max.muehlefeldt\\Documents\\GitHub\\unity-machine-learning\\basic_rl_env\\results\\10_basicenv_ppo\n",
      "c:\\Users\\max.muehlefeldt\\Documents\\GitHub\\unity-machine-learning\\basic_rl_env\\results\\11_basicenv_ppo\n",
      "c:\\Users\\max.muehlefeldt\\Documents\\GitHub\\unity-machine-learning\\basic_rl_env\\results\\12_basicenv_ppo\n",
      "c:\\Users\\max.muehlefeldt\\Documents\\GitHub\\unity-machine-learning\\basic_rl_env\\results\\13_basicenv_ppo\n",
      "c:\\Users\\max.muehlefeldt\\Documents\\GitHub\\unity-machine-learning\\basic_rl_env\\results\\14_basicenv_ppo\n",
      "c:\\Users\\max.muehlefeldt\\Documents\\GitHub\\unity-machine-learning\\basic_rl_env\\results\\15_basicenv_ppo\n",
      "c:\\Users\\max.muehlefeldt\\Documents\\GitHub\\unity-machine-learning\\basic_rl_env\\results\\16_basicenv_ppo\n",
      "c:\\Users\\max.muehlefeldt\\Documents\\GitHub\\unity-machine-learning\\basic_rl_env\\results\\17_basicenv_ppo\n",
      "c:\\Users\\max.muehlefeldt\\Documents\\GitHub\\unity-machine-learning\\basic_rl_env\\results\\18_basicenv_ppo\n",
      "c:\\Users\\max.muehlefeldt\\Documents\\GitHub\\unity-machine-learning\\basic_rl_env\\results\\19_basicenv_ppo\n",
      "c:\\Users\\max.muehlefeldt\\Documents\\GitHub\\unity-machine-learning\\basic_rl_env\\results\\20_basicenv_ppo\n",
      "c:\\Users\\max.muehlefeldt\\Documents\\GitHub\\unity-machine-learning\\basic_rl_env\\results\\21_basicenv_ppo\n",
      "c:\\Users\\max.muehlefeldt\\Documents\\GitHub\\unity-machine-learning\\basic_rl_env\\results\\22_basicenv_ppo\n",
      "c:\\Users\\max.muehlefeldt\\Documents\\GitHub\\unity-machine-learning\\basic_rl_env\\results\\23_basicenv_ppo\n",
      "c:\\Users\\max.muehlefeldt\\Documents\\GitHub\\unity-machine-learning\\basic_rl_env\\results\\24_basicenv_ppo\n",
      "c:\\Users\\max.muehlefeldt\\Documents\\GitHub\\unity-machine-learning\\basic_rl_env\\results\\25_basicenv_ppo_buffer_size_10\n",
      "c:\\Users\\max.muehlefeldt\\Documents\\GitHub\\unity-machine-learning\\basic_rl_env\\results\\26_basicenv_ppo_buffer_size_50\n",
      "c:\\Users\\max.muehlefeldt\\Documents\\GitHub\\unity-machine-learning\\basic_rl_env\\results\\27_basicenv_ppo_buffer_size_100\n",
      "c:\\Users\\max.muehlefeldt\\Documents\\GitHub\\unity-machine-learning\\basic_rl_env\\results\\28_basicenv_ppo_buffer_size_1000\n",
      "c:\\Users\\max.muehlefeldt\\Documents\\GitHub\\unity-machine-learning\\basic_rl_env\\results\\29_basicenv_ppo_buffer_size_2000\n",
      "c:\\Users\\max.muehlefeldt\\Documents\\GitHub\\unity-machine-learning\\basic_rl_env\\results\\30_basicenv_ppo_buffer_size_2500\n",
      "c:\\Users\\max.muehlefeldt\\Documents\\GitHub\\unity-machine-learning\\basic_rl_env\\results\\31_basicenv_ppo_buffer_size_3000\n",
      "c:\\Users\\max.muehlefeldt\\Documents\\GitHub\\unity-machine-learning\\basic_rl_env\\results\\32_basicenv_ppo_buffer_size_4000\n",
      "c:\\Users\\max.muehlefeldt\\Documents\\GitHub\\unity-machine-learning\\basic_rl_env\\results\\33_basicenv_ppo_buffer_size_5000\n",
      "c:\\Users\\max.muehlefeldt\\Documents\\GitHub\\unity-machine-learning\\basic_rl_env\\results\\34_basicenv_ppo_buffer_size_10240\n",
      "c:\\Users\\max.muehlefeldt\\Documents\\GitHub\\unity-machine-learning\\basic_rl_env\\results\\35_basicenv_ppo_buffer_size_20000\n",
      "c:\\Users\\max.muehlefeldt\\Documents\\GitHub\\unity-machine-learning\\basic_rl_env\\results\\36_basicenv_ppo_buffer_size_50000\n",
      "c:\\Users\\max.muehlefeldt\\Documents\\GitHub\\unity-machine-learning\\basic_rl_env\\results\\37_basicenv_ppo_buffer_size_100000\n",
      "c:\\Users\\max.muehlefeldt\\Documents\\GitHub\\unity-machine-learning\\basic_rl_env\\results\\38_basicenv_ppo_buffer_size_200000\n",
      "c:\\Users\\max.muehlefeldt\\Documents\\GitHub\\unity-machine-learning\\basic_rl_env\\results\\39_basicenv_ppo_batch_size_512\n",
      "c:\\Users\\max.muehlefeldt\\Documents\\GitHub\\unity-machine-learning\\basic_rl_env\\results\\40_basicenv_ppo_batch_size_1000\n",
      "c:\\Users\\max.muehlefeldt\\Documents\\GitHub\\unity-machine-learning\\basic_rl_env\\results\\41_basicenv_ppo_batch_size_2000\n",
      "c:\\Users\\max.muehlefeldt\\Documents\\GitHub\\unity-machine-learning\\basic_rl_env\\results\\42_basicenv_ppo_batch_size_3000\n",
      "c:\\Users\\max.muehlefeldt\\Documents\\GitHub\\unity-machine-learning\\basic_rl_env\\results\\43_basicenv_ppo_batch_size_4000\n",
      "c:\\Users\\max.muehlefeldt\\Documents\\GitHub\\unity-machine-learning\\basic_rl_env\\results\\44_basicenv_ppo_beta_0.0001\n",
      "c:\\Users\\max.muehlefeldt\\Documents\\GitHub\\unity-machine-learning\\basic_rl_env\\results\\45_basicenv_ppo_beta_0.0005\n",
      "c:\\Users\\max.muehlefeldt\\Documents\\GitHub\\unity-machine-learning\\basic_rl_env\\results\\46_basicenv_ppo_beta_0.001\n",
      "c:\\Users\\max.muehlefeldt\\Documents\\GitHub\\unity-machine-learning\\basic_rl_env\\results\\47_basicenv_ppo_beta_0.005\n",
      "c:\\Users\\max.muehlefeldt\\Documents\\GitHub\\unity-machine-learning\\basic_rl_env\\results\\48_basicenv_ppo_beta_0.01\n"
     ]
    }
   ],
   "source": [
    "dir_list = os.listdir('./results')\n",
    "main_path = Path('./results')\n",
    "\n",
    "for entry in dir_list:\n",
    "    src = Path(f'./results/{entry}').absolute()\n",
    "    dst_part = str.lower(f'{entry[:2]}_{entry[2:10]}_{entry[10:]}')\n",
    "    dst = Path(f'./results/{dst_part}').absolute()\n",
    "    os.rename(src, dst)\n",
    "    print(dst)"
   ]
  }
 ],
 "metadata": {
  "kernelspec": {
   "display_name": ".venv",
   "language": "python",
   "name": "python3"
  },
  "language_info": {
   "codemirror_mode": {
    "name": "ipython",
    "version": 3
   },
   "file_extension": ".py",
   "mimetype": "text/x-python",
   "name": "python",
   "nbconvert_exporter": "python",
   "pygments_lexer": "ipython3",
   "version": "3.9.13"
  },
  "orig_nbformat": 4
 },
 "nbformat": 4,
 "nbformat_minor": 2
}
