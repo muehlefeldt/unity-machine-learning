{
 "cells": [
  {
   "cell_type": "code",
   "execution_count": 202,
   "metadata": {},
   "outputs": [],
   "source": [
    "import yaml\n",
    "from pathlib import Path\n",
    "import os\n",
    "import numpy as np"
   ]
  },
  {
   "cell_type": "code",
   "execution_count": 203,
   "metadata": {},
   "outputs": [],
   "source": [
    "with open(\"config/48.yaml\") as config_file:\n",
    "    config = yaml.safe_load(config_file)\n",
    "\n",
    "hyperparamters = config['behaviors']['RollerAgent']['hyperparameters']\n",
    "memory = config['behaviors']['RollerAgent']['network_settings']['memory']"
   ]
  },
  {
   "cell_type": "code",
   "execution_count": null,
   "metadata": {},
   "outputs": [],
   "source": []
  },
  {
   "cell_type": "code",
   "execution_count": 204,
   "metadata": {},
   "outputs": [
    {
     "data": {
      "text/plain": [
       "[{'beta': [0.04, 0.2]}]"
      ]
     },
     "execution_count": 204,
     "metadata": {},
     "output_type": "execute_result"
    }
   ],
   "source": [
    "dynamic_key_values = []\n",
    "for key in hyperparamters:\n",
    "    if isinstance(hyperparamters[key], list):\n",
    "        dynamic_key_values.append({key: hyperparamters[key]})\n",
    "\n",
    "dynamic_key_values"
   ]
  },
  {
   "cell_type": "code",
   "execution_count": 205,
   "metadata": {},
   "outputs": [
    {
     "data": {
      "text/plain": [
       "1"
      ]
     },
     "execution_count": 205,
     "metadata": {},
     "output_type": "execute_result"
    }
   ],
   "source": [
    "\n",
    "#input = list(dynamic_key_values.values())\n",
    "#input\n",
    "\n",
    "input = [list(entry.values())[0] for entry in dynamic_key_values]\n",
    "len(input)"
   ]
  },
  {
   "cell_type": "code",
   "execution_count": 206,
   "metadata": {},
   "outputs": [],
   "source": [
    "import itertools"
   ]
  },
  {
   "cell_type": "code",
   "execution_count": 207,
   "metadata": {},
   "outputs": [
    {
     "data": {
      "text/plain": [
       "2"
      ]
     },
     "execution_count": 207,
     "metadata": {},
     "output_type": "execute_result"
    }
   ],
   "source": [
    "p = list(itertools.product(*input))\n",
    "len(p)"
   ]
  },
  {
   "cell_type": "code",
   "execution_count": 208,
   "metadata": {},
   "outputs": [],
   "source": [
    "memory\n"
   ]
  },
  {
   "cell_type": "code",
   "execution_count": 209,
   "metadata": {},
   "outputs": [
    {
     "data": {
      "text/plain": [
       "[]"
      ]
     },
     "execution_count": 209,
     "metadata": {},
     "output_type": "execute_result"
    }
   ],
   "source": [
    "memory_key_values = []\n",
    "if memory is not None:\n",
    "    for key in memory:\n",
    "        if isinstance(memory[key], list):\n",
    "            memory_key_values.append({key: memory[key]})\n",
    "\n",
    "memory_key_values"
   ]
  },
  {
   "cell_type": "code",
   "execution_count": 210,
   "metadata": {},
   "outputs": [
    {
     "data": {
      "text/plain": [
       "[]"
      ]
     },
     "execution_count": 210,
     "metadata": {},
     "output_type": "execute_result"
    }
   ],
   "source": [
    "memory_input = [list(entry.values())[0] for entry in memory_key_values]\n",
    "memory_input"
   ]
  },
  {
   "cell_type": "code",
   "execution_count": 211,
   "metadata": {},
   "outputs": [
    {
     "data": {
      "text/plain": [
       "[()]"
      ]
     },
     "execution_count": 211,
     "metadata": {},
     "output_type": "execute_result"
    }
   ],
   "source": [
    "memory_combinations = list(itertools.product(*memory_input))\n",
    "memory_combinations"
   ]
  },
  {
   "cell_type": "code",
   "execution_count": 212,
   "metadata": {},
   "outputs": [
    {
     "name": "stdout",
     "output_type": "stream",
     "text": [
      "{'batch_size': 512, 'buffer_size': 10240, 'learning_rate': 0.0003, 'beta': 0.04, 'epsilon': 0.2, 'lambd': 0.99, 'num_epoch': 3, 'shared_critic': False, 'learning_rate_schedule': 'linear', 'beta_schedule': 'constant', 'epsilon_schedule': 'linear'}\n",
      "None\n",
      "{'batch_size': 512, 'buffer_size': 10240, 'learning_rate': 0.0003, 'beta': 0.2, 'epsilon': 0.2, 'lambd': 0.99, 'num_epoch': 3, 'shared_critic': False, 'learning_rate_schedule': 'linear', 'beta_schedule': 'constant', 'epsilon_schedule': 'linear'}\n",
      "None\n"
     ]
    }
   ],
   "source": [
    "for hyperparameter_option in p:\n",
    "    for memory_option in memory_combinations:\n",
    "        for index in range(len(dynamic_key_values)):\n",
    "            key = list(dynamic_key_values[index].keys())[0]\n",
    "            #key =list(en try.keys())[0]\n",
    "            #hyperparamters[key] \n",
    "            value = hyperparameter_option[index]\n",
    "            hyperparamters[key] = value\n",
    "            #print(key)\n",
    "        for index in range(len(memory_key_values)):\n",
    "            key = list(memory_key_values[index].keys())[0]\n",
    "            #key =list(en try.keys())[0]\n",
    "            #hyperparamters[key] \n",
    "            value = memory_option[index]\n",
    "            memory[key] = value\n",
    "        print(hyperparamters)\n",
    "        print(memory)\n"
   ]
  }
 ],
 "metadata": {
  "kernelspec": {
   "display_name": ".venv",
   "language": "python",
   "name": "python3"
  },
  "language_info": {
   "codemirror_mode": {
    "name": "ipython",
    "version": 3
   },
   "file_extension": ".py",
   "mimetype": "text/x-python",
   "name": "python",
   "nbconvert_exporter": "python",
   "pygments_lexer": "ipython3",
   "version": "3.9.13"
  },
  "orig_nbformat": 4,
  "vscode": {
   "interpreter": {
    "hash": "b827e17ac296308a841e2dc6cc282cd5ca71c13fcd532c5acf2c55a086afa311"
   }
  }
 },
 "nbformat": 4,
 "nbformat_minor": 2
}
