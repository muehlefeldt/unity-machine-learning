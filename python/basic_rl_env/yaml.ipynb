{
 "cells": [
  {
   "cell_type": "code",
   "execution_count": 24,
   "metadata": {},
   "outputs": [],
   "source": [
    "import yaml\n",
    "from pathlib import Path\n",
    "import os\n",
    "import numpy as np"
   ]
  },
  {
   "cell_type": "code",
   "execution_count": 64,
   "metadata": {},
   "outputs": [
    {
     "data": {
      "text/plain": [
       "{'batch_size': 512,\n",
       " 'buffer_size': 10240,\n",
       " 'learning_rate': [0.0003, 0.001, 0.23],\n",
       " 'beta': [0.01, 0.05, 0.04],\n",
       " 'epsilon': 0.2,\n",
       " 'lambd': [0.99, 0.925],\n",
       " 'num_epoch': 3,\n",
       " 'shared_critic': False,\n",
       " 'learning_rate_schedule': 'linear',\n",
       " 'beta_schedule': 'constant',\n",
       " 'epsilon_schedule': 'linear'}"
      ]
     },
     "execution_count": 64,
     "metadata": {},
     "output_type": "execute_result"
    }
   ],
   "source": [
    "with open(\"config/48.yaml\") as config_file:\n",
    "    config = yaml.safe_load(config_file)\n",
    "\n",
    "hyperparamters = config['behaviors']['RollerAgent']['hyperparameters']\n",
    "hyperparamters"
   ]
  },
  {
   "cell_type": "code",
   "execution_count": 71,
   "metadata": {},
   "outputs": [
    {
     "data": {
      "text/plain": [
       "[{'learning_rate': [0.0003, 0.001, 0.23]},\n",
       " {'beta': [0.01, 0.05, 0.04]},\n",
       " {'lambd': [0.99, 0.925]}]"
      ]
     },
     "execution_count": 71,
     "metadata": {},
     "output_type": "execute_result"
    }
   ],
   "source": [
    "dynamic_key_values = []\n",
    "for key in hyperparamters:\n",
    "    if isinstance(hyperparamters[key], list):\n",
    "        dynamic_key_values.append({key: hyperparamters[key]})\n",
    "\n",
    "dynamic_key_values"
   ]
  },
  {
   "cell_type": "code",
   "execution_count": 80,
   "metadata": {},
   "outputs": [
    {
     "data": {
      "text/plain": [
       "[[0.0003, 0.001, 0.23], [0.01, 0.05, 0.04], [0.99, 0.925]]"
      ]
     },
     "execution_count": 80,
     "metadata": {},
     "output_type": "execute_result"
    }
   ],
   "source": [
    "\n",
    "#input = list(dynamic_key_values.values())\n",
    "#input\n",
    "\n",
    "input = [list(entry.values())[0] for entry in dynamic_key_values]\n",
    "input"
   ]
  },
  {
   "cell_type": "code",
   "execution_count": 67,
   "metadata": {},
   "outputs": [],
   "source": [
    "import itertools"
   ]
  },
  {
   "cell_type": "code",
   "execution_count": 105,
   "metadata": {},
   "outputs": [
    {
     "data": {
      "text/plain": [
       "[(0.0003, 0.01, 0.99),\n",
       " (0.0003, 0.01, 0.925),\n",
       " (0.0003, 0.05, 0.99),\n",
       " (0.0003, 0.05, 0.925),\n",
       " (0.0003, 0.04, 0.99),\n",
       " (0.0003, 0.04, 0.925),\n",
       " (0.001, 0.01, 0.99),\n",
       " (0.001, 0.01, 0.925),\n",
       " (0.001, 0.05, 0.99),\n",
       " (0.001, 0.05, 0.925),\n",
       " (0.001, 0.04, 0.99),\n",
       " (0.001, 0.04, 0.925),\n",
       " (0.23, 0.01, 0.99),\n",
       " (0.23, 0.01, 0.925),\n",
       " (0.23, 0.05, 0.99),\n",
       " (0.23, 0.05, 0.925),\n",
       " (0.23, 0.04, 0.99),\n",
       " (0.23, 0.04, 0.925)]"
      ]
     },
     "execution_count": 105,
     "metadata": {},
     "output_type": "execute_result"
    }
   ],
   "source": [
    "p = list(itertools.product(*input))\n",
    "p"
   ]
  },
  {
   "cell_type": "code",
   "execution_count": 107,
   "metadata": {},
   "outputs": [
    {
     "data": {
      "text/plain": [
       "{'batch_size': 512,\n",
       " 'buffer_size': 10240,\n",
       " 'learning_rate': 0.23,\n",
       " 'beta': 0.04,\n",
       " 'epsilon': 0.2,\n",
       " 'lambd': 0.925,\n",
       " 'num_epoch': 3,\n",
       " 'shared_critic': False,\n",
       " 'learning_rate_schedule': 'linear',\n",
       " 'beta_schedule': 'constant',\n",
       " 'epsilon_schedule': 'linear'}"
      ]
     },
     "execution_count": 107,
     "metadata": {},
     "output_type": "execute_result"
    }
   ],
   "source": [
    "for option in p:\n",
    "    for index in range(len(dynamic_key_values)):\n",
    "        key = list(dynamic_key_values[index].keys())[0]\n",
    "        #key =list(en try.keys())[0]\n",
    "        #hyperparamters[key] \n",
    "        value = option[index]\n",
    "        hyperparamters[key] = value\n",
    "        #print(key)\n",
    "\n",
    "hyperparamters\n"
   ]
  },
  {
   "cell_type": "code",
   "execution_count": null,
   "metadata": {},
   "outputs": [],
   "source": []
  }
 ],
 "metadata": {
  "kernelspec": {
   "display_name": ".venv",
   "language": "python",
   "name": "python3"
  },
  "language_info": {
   "codemirror_mode": {
    "name": "ipython",
    "version": 3
   },
   "file_extension": ".py",
   "mimetype": "text/x-python",
   "name": "python",
   "nbconvert_exporter": "python",
   "pygments_lexer": "ipython3",
   "version": "3.9.13"
  },
  "orig_nbformat": 4,
  "vscode": {
   "interpreter": {
    "hash": "b827e17ac296308a841e2dc6cc282cd5ca71c13fcd532c5acf2c55a086afa311"
   }
  }
 },
 "nbformat": 4,
 "nbformat_minor": 2
}
