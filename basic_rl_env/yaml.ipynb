{
 "cells": [
  {
   "cell_type": "code",
   "execution_count": 7,
   "metadata": {},
   "outputs": [],
   "source": [
    "import yaml\n",
    "from pathlib import Path\n",
    "import os"
   ]
  },
  {
   "cell_type": "code",
   "execution_count": 3,
   "metadata": {},
   "outputs": [
    {
     "data": {
      "text/plain": [
       "{'behaviors': {'RollerAgent': {'trainer_type': 'ppo',\n",
       "   'hyperparameters': {'batch_size': 1000,\n",
       "    'buffer_size': 10240,\n",
       "    'learning_rate': 0.0003,\n",
       "    'beta': 0.01,\n",
       "    'epsilon': 0.2,\n",
       "    'lambd': 0.99,\n",
       "    'num_epoch': 3,\n",
       "    'learning_rate_schedule': 'linear',\n",
       "    'beta_schedule': 'constant',\n",
       "    'epsilon_schedule': 'linear'},\n",
       "   'network_settings': {'normalize': False,\n",
       "    'hidden_units': 256,\n",
       "    'num_layers': 2},\n",
       "   'reward_signals': {'extrinsic': {'gamma': 0.99, 'strength': 1.0}},\n",
       "   'max_steps': '2e6',\n",
       "   'time_horizon': 64,\n",
       "   'summary_freq': 10000}}}"
      ]
     },
     "execution_count": 3,
     "metadata": {},
     "output_type": "execute_result"
    }
   ],
   "source": [
    "with open(\"config/rolleragent_ppo.yaml\") as config_file:\n",
    "    config = yaml.safe_load(config_file)\n",
    "\n",
    "config"
   ]
  },
  {
   "cell_type": "code",
   "execution_count": 4,
   "metadata": {},
   "outputs": [
    {
     "data": {
      "text/plain": [
       "{'behaviors': {'RollerAgent': {'trainer_type': 'ppo',\n",
       "   'hyperparameters': {'batch_size': 1000,\n",
       "    'buffer_size': 10,\n",
       "    'learning_rate': 0.0003,\n",
       "    'beta': 0.01,\n",
       "    'epsilon': 0.2,\n",
       "    'lambd': 0.99,\n",
       "    'num_epoch': 3,\n",
       "    'learning_rate_schedule': 'linear',\n",
       "    'beta_schedule': 'constant',\n",
       "    'epsilon_schedule': 'linear'},\n",
       "   'network_settings': {'normalize': False,\n",
       "    'hidden_units': 256,\n",
       "    'num_layers': 2},\n",
       "   'reward_signals': {'extrinsic': {'gamma': 0.99, 'strength': 1.0}},\n",
       "   'max_steps': '2e6',\n",
       "   'time_horizon': 64,\n",
       "   'summary_freq': 10000}}}"
      ]
     },
     "execution_count": 4,
     "metadata": {},
     "output_type": "execute_result"
    }
   ],
   "source": [
    "config['behaviors']['RollerAgent']['hyperparameters']['buffer_size'] = 10\n",
    "config"
   ]
  },
  {
   "cell_type": "code",
   "execution_count": 5,
   "metadata": {},
   "outputs": [],
   "source": [
    "with open(\"config/current.yaml\", mode=\"w\") as new_file:\n",
    "    yaml.dump(config, new_file)"
   ]
  },
  {
   "cell_type": "code",
   "execution_count": 11,
   "metadata": {},
   "outputs": [],
   "source": [
    "return_code = os.system(\"mlagents-learn .\\\\config\\\\rolleragent_ppo.yaml --run-id=24BasicEnvPpo --torch-device cpu --force --no-graphics\")"
   ]
  },
  {
   "cell_type": "code",
   "execution_count": 13,
   "metadata": {},
   "outputs": [
    {
     "data": {
      "text/plain": [
       "1"
      ]
     },
     "execution_count": 13,
     "metadata": {},
     "output_type": "execute_result"
    }
   ],
   "source": [
    "return_code"
   ]
  },
  {
   "cell_type": "code",
   "execution_count": 14,
   "metadata": {},
   "outputs": [],
   "source": [
    "from mlagents_envs.environment import UnityEnvironment"
   ]
  },
  {
   "cell_type": "code",
   "execution_count": 23,
   "metadata": {},
   "outputs": [
    {
     "ename": "UnityWorkerInUseException",
     "evalue": "Couldn't start socket communication because worker number 0 is still in use. You may need to manually close a previously opened environment or use a different worker number.",
     "output_type": "error",
     "traceback": [
      "\u001b[1;31m---------------------------------------------------------------------------\u001b[0m",
      "\u001b[1;31mRuntimeError\u001b[0m                              Traceback (most recent call last)",
      "File \u001b[1;32mc:\\Users\\max.muehlefeldt\\Documents\\GitHub\\unity-machine-learning\\.venv\\lib\\site-packages\\mlagents_envs\\rpc_communicator.py:71\u001b[0m, in \u001b[0;36mRpcCommunicator.create_server\u001b[1;34m(self)\u001b[0m\n\u001b[0;32m     69\u001b[0m \u001b[39m# Using unspecified address, which means that grpc is communicating on all IPs\u001b[39;00m\n\u001b[0;32m     70\u001b[0m \u001b[39m# This is so that the docker container can connect.\u001b[39;00m\n\u001b[1;32m---> 71\u001b[0m \u001b[39mself\u001b[39;49m\u001b[39m.\u001b[39;49mserver\u001b[39m.\u001b[39;49madd_insecure_port(\u001b[39m\"\u001b[39;49m\u001b[39m[::]:\u001b[39;49m\u001b[39m\"\u001b[39;49m \u001b[39m+\u001b[39;49m \u001b[39mstr\u001b[39;49m(\u001b[39mself\u001b[39;49m\u001b[39m.\u001b[39;49mport))\n\u001b[0;32m     72\u001b[0m \u001b[39mself\u001b[39m\u001b[39m.\u001b[39mserver\u001b[39m.\u001b[39mstart()\n",
      "File \u001b[1;32mc:\\Users\\max.muehlefeldt\\Documents\\GitHub\\unity-machine-learning\\.venv\\lib\\site-packages\\grpc\\_server.py:970\u001b[0m, in \u001b[0;36m_Server.add_insecure_port\u001b[1;34m(self, address)\u001b[0m\n\u001b[0;32m    969\u001b[0m \u001b[39mdef\u001b[39;00m \u001b[39madd_insecure_port\u001b[39m(\u001b[39mself\u001b[39m, address):\n\u001b[1;32m--> 970\u001b[0m     \u001b[39mreturn\u001b[39;00m _common\u001b[39m.\u001b[39;49mvalidate_port_binding_result(\n\u001b[0;32m    971\u001b[0m         address, _add_insecure_port(\u001b[39mself\u001b[39;49m\u001b[39m.\u001b[39;49m_state, _common\u001b[39m.\u001b[39;49mencode(address)))\n",
      "File \u001b[1;32mc:\\Users\\max.muehlefeldt\\Documents\\GitHub\\unity-machine-learning\\.venv\\lib\\site-packages\\grpc\\_common.py:175\u001b[0m, in \u001b[0;36mvalidate_port_binding_result\u001b[1;34m(address, port)\u001b[0m\n\u001b[0;32m    172\u001b[0m \u001b[39mif\u001b[39;00m port \u001b[39m==\u001b[39m \u001b[39m0\u001b[39m:\n\u001b[0;32m    173\u001b[0m     \u001b[39m# The Core API doesn't return a failure message. The best we can do\u001b[39;00m\n\u001b[0;32m    174\u001b[0m     \u001b[39m# is raising an exception to prevent further confusion.\u001b[39;00m\n\u001b[1;32m--> 175\u001b[0m     \u001b[39mraise\u001b[39;00m \u001b[39mRuntimeError\u001b[39;00m(_ERROR_MESSAGE_PORT_BINDING_FAILED \u001b[39m%\u001b[39m address)\n\u001b[0;32m    176\u001b[0m \u001b[39melse\u001b[39;00m:\n",
      "\u001b[1;31mRuntimeError\u001b[0m: Failed to bind to address [::]:5005; set GRPC_VERBOSITY=debug environment variable to see detailed error message.",
      "\nDuring handling of the above exception, another exception occurred:\n",
      "\u001b[1;31mUnityWorkerInUseException\u001b[0m                 Traceback (most recent call last)",
      "Cell \u001b[1;32mIn[23], line 1\u001b[0m\n\u001b[1;32m----> 1\u001b[0m env \u001b[39m=\u001b[39m UnityEnvironment(file_name\u001b[39m=\u001b[39;49m\u001b[39m\"\u001b[39;49m\u001b[39mbuild\u001b[39;49m\u001b[39m\"\u001b[39;49m)\n",
      "File \u001b[1;32mc:\\Users\\max.muehlefeldt\\Documents\\GitHub\\unity-machine-learning\\.venv\\lib\\site-packages\\mlagents_envs\\environment.py:189\u001b[0m, in \u001b[0;36mUnityEnvironment.__init__\u001b[1;34m(self, file_name, worker_id, base_port, seed, no_graphics, timeout_wait, additional_args, side_channels, log_folder, num_areas)\u001b[0m\n\u001b[0;32m    187\u001b[0m \u001b[39mself\u001b[39m\u001b[39m.\u001b[39m_process: Optional[subprocess\u001b[39m.\u001b[39mPopen] \u001b[39m=\u001b[39m \u001b[39mNone\u001b[39;00m\n\u001b[0;32m    188\u001b[0m \u001b[39mself\u001b[39m\u001b[39m.\u001b[39m_timeout_wait: \u001b[39mint\u001b[39m \u001b[39m=\u001b[39m timeout_wait\n\u001b[1;32m--> 189\u001b[0m \u001b[39mself\u001b[39m\u001b[39m.\u001b[39m_communicator \u001b[39m=\u001b[39m \u001b[39mself\u001b[39;49m\u001b[39m.\u001b[39;49m_get_communicator(worker_id, base_port, timeout_wait)\n\u001b[0;32m    190\u001b[0m \u001b[39mself\u001b[39m\u001b[39m.\u001b[39m_worker_id \u001b[39m=\u001b[39m worker_id\n\u001b[0;32m    191\u001b[0m \u001b[39mif\u001b[39;00m side_channels \u001b[39mis\u001b[39;00m \u001b[39mNone\u001b[39;00m:\n",
      "File \u001b[1;32mc:\\Users\\max.muehlefeldt\\Documents\\GitHub\\unity-machine-learning\\.venv\\lib\\site-packages\\mlagents_envs\\environment.py:267\u001b[0m, in \u001b[0;36mUnityEnvironment._get_communicator\u001b[1;34m(worker_id, base_port, timeout_wait)\u001b[0m\n\u001b[0;32m    265\u001b[0m \u001b[39m@staticmethod\u001b[39m\n\u001b[0;32m    266\u001b[0m \u001b[39mdef\u001b[39;00m \u001b[39m_get_communicator\u001b[39m(worker_id, base_port, timeout_wait):\n\u001b[1;32m--> 267\u001b[0m     \u001b[39mreturn\u001b[39;00m RpcCommunicator(worker_id, base_port, timeout_wait)\n",
      "File \u001b[1;32mc:\\Users\\max.muehlefeldt\\Documents\\GitHub\\unity-machine-learning\\.venv\\lib\\site-packages\\mlagents_envs\\rpc_communicator.py:51\u001b[0m, in \u001b[0;36mRpcCommunicator.__init__\u001b[1;34m(self, worker_id, base_port, timeout_wait)\u001b[0m\n\u001b[0;32m     49\u001b[0m \u001b[39mself\u001b[39m\u001b[39m.\u001b[39munity_to_external \u001b[39m=\u001b[39m \u001b[39mNone\u001b[39;00m\n\u001b[0;32m     50\u001b[0m \u001b[39mself\u001b[39m\u001b[39m.\u001b[39mis_open \u001b[39m=\u001b[39m \u001b[39mFalse\u001b[39;00m\n\u001b[1;32m---> 51\u001b[0m \u001b[39mself\u001b[39;49m\u001b[39m.\u001b[39;49mcreate_server()\n",
      "File \u001b[1;32mc:\\Users\\max.muehlefeldt\\Documents\\GitHub\\unity-machine-learning\\.venv\\lib\\site-packages\\mlagents_envs\\rpc_communicator.py:75\u001b[0m, in \u001b[0;36mRpcCommunicator.create_server\u001b[1;34m(self)\u001b[0m\n\u001b[0;32m     73\u001b[0m     \u001b[39mself\u001b[39m\u001b[39m.\u001b[39mis_open \u001b[39m=\u001b[39m \u001b[39mTrue\u001b[39;00m\n\u001b[0;32m     74\u001b[0m \u001b[39mexcept\u001b[39;00m \u001b[39mException\u001b[39;00m:\n\u001b[1;32m---> 75\u001b[0m     \u001b[39mraise\u001b[39;00m UnityWorkerInUseException(\u001b[39mself\u001b[39m\u001b[39m.\u001b[39mworker_id)\n",
      "\u001b[1;31mUnityWorkerInUseException\u001b[0m: Couldn't start socket communication because worker number 0 is still in use. You may need to manually close a previously opened environment or use a different worker number."
     ]
    }
   ],
   "source": [
    "env = UnityEnvironment(file_name=\"build\")"
   ]
  },
  {
   "cell_type": "code",
   "execution_count": 21,
   "metadata": {},
   "outputs": [],
   "source": [
    "return_code = os.system(\"mlagents-learn .\\\\config\\\\rolleragent_ppo.yaml --env=.\\\\build --run-id=24BasicEnvPpo --torch-device cpu --force\")"
   ]
  },
  {
   "cell_type": "code",
   "execution_count": 24,
   "metadata": {},
   "outputs": [],
   "source": [
    "env.close()"
   ]
  }
 ],
 "metadata": {
  "kernelspec": {
   "display_name": ".venv",
   "language": "python",
   "name": "python3"
  },
  "language_info": {
   "codemirror_mode": {
    "name": "ipython",
    "version": 3
   },
   "file_extension": ".py",
   "mimetype": "text/x-python",
   "name": "python",
   "nbconvert_exporter": "python",
   "pygments_lexer": "ipython3",
   "version": "3.9.13"
  },
  "orig_nbformat": 4,
  "vscode": {
   "interpreter": {
    "hash": "b827e17ac296308a841e2dc6cc282cd5ca71c13fcd532c5acf2c55a086afa311"
   }
  }
 },
 "nbformat": 4,
 "nbformat_minor": 2
}
